{
  "nbformat": 4,
  "nbformat_minor": 0,
  "metadata": {
    "colab": {
      "provenance": [],
      "authorship_tag": "ABX9TyNG8f+lmN22/UE7fIILsAwd",
      "include_colab_link": true
    },
    "kernelspec": {
      "name": "python3",
      "display_name": "Python 3"
    },
    "language_info": {
      "name": "python"
    }
  },
  "cells": [
    {
      "cell_type": "markdown",
      "metadata": {
        "id": "view-in-github",
        "colab_type": "text"
      },
      "source": [
        "<a href=\"https://colab.research.google.com/github/kravis1216/aws-eks-kubernetes-masterclass/blob/master/1_9_llm_streaming.ipynb\" target=\"_parent\"><img src=\"https://colab.research.google.com/assets/colab-badge.svg\" alt=\"Open In Colab\"/></a>"
      ]
    },
    {
      "cell_type": "markdown",
      "source": [
        "### LLM Streaming"
      ],
      "metadata": {
        "id": "-o_slzSRucbu"
      }
    },
    {
      "cell_type": "code",
      "source": [
        "%pip install --upgrade langchain_openai"
      ],
      "metadata": {
        "id": "RraDMZj8ud8Y"
      },
      "execution_count": null,
      "outputs": []
    },
    {
      "cell_type": "code",
      "source": [
        "from langchain_openai import ChatOpenAI\n",
        "from google.colab import userdata\n",
        "import os\n",
        "\n",
        "os.environ['OPENAI_API_KEY'] = userdata.get('OPENAI_API_KEY')\n",
        "\n",
        "llm = ChatOpenAI()\n",
        "\n",
        "prompt = \"Write a rock song about Moon and Raven\"\n",
        "print(llm.invoke(prompt).content)"
      ],
      "metadata": {
        "id": "999Ki_y_umiH"
      },
      "execution_count": null,
      "outputs": []
    },
    {
      "cell_type": "code",
      "source": [
        "for chunk in llm.stream(prompt):\n",
        "  print(chunk.content, end='', flush=True)"
      ],
      "metadata": {
        "id": "4tu-LmGmvXd4"
      },
      "execution_count": null,
      "outputs": []
    },
    {
      "cell_type": "code",
      "source": [],
      "metadata": {
        "id": "iqHlTgyMwb0B"
      },
      "execution_count": null,
      "outputs": []
    }
  ]
}